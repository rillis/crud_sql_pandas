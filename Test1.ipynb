{
 "cells": [
  {
   "cell_type": "code",
   "execution_count": 2,
   "outputs": [
    {
     "name": "stdout",
     "output_type": "stream",
     "text": [
      "Requirement already satisfied: pandas in c:\\users\\rilli\\sql\\lib\\site-packages (2.1.2)\n",
      "Requirement already satisfied: pandasql in c:\\users\\rilli\\sql\\lib\\site-packages (0.7.3)\n",
      "Requirement already satisfied: openpyxl in c:\\users\\rilli\\sql\\lib\\site-packages (3.1.2)\n",
      "Requirement already satisfied: numpy<2,>=1.23.2 in c:\\users\\rilli\\sql\\lib\\site-packages (from pandas) (1.26.1)\n",
      "Requirement already satisfied: python-dateutil>=2.8.2 in c:\\users\\rilli\\sql\\lib\\site-packages (from pandas) (2.8.2)\n",
      "Requirement already satisfied: pytz>=2020.1 in c:\\users\\rilli\\sql\\lib\\site-packages (from pandas) (2023.3.post1)\n",
      "Requirement already satisfied: tzdata>=2022.1 in c:\\users\\rilli\\sql\\lib\\site-packages (from pandas) (2023.3)\n",
      "Requirement already satisfied: sqlalchemy in c:\\users\\rilli\\sql\\lib\\site-packages (from pandasql) (2.0.23)\n",
      "Requirement already satisfied: et-xmlfile in c:\\users\\rilli\\sql\\lib\\site-packages (from openpyxl) (1.1.0)\n",
      "Requirement already satisfied: six>=1.5 in c:\\users\\rilli\\sql\\lib\\site-packages (from python-dateutil>=2.8.2->pandas) (1.16.0)\n",
      "Requirement already satisfied: typing-extensions>=4.2.0 in c:\\users\\rilli\\sql\\lib\\site-packages (from sqlalchemy->pandasql) (4.8.0)\n",
      "Requirement already satisfied: greenlet!=0.4.17 in c:\\users\\rilli\\sql\\lib\\site-packages (from sqlalchemy->pandasql) (3.0.1)\n"
     ]
    },
    {
     "name": "stderr",
     "output_type": "stream",
     "text": [
      "\n",
      "[notice] A new release of pip available: 22.3.1 -> 23.3.1\n",
      "[notice] To update, run: python.exe -m pip install --upgrade pip\n"
     ]
    }
   ],
   "source": [
    "!pip install pandas pandasql openpyxl"
   ],
   "metadata": {
    "collapsed": false,
    "ExecuteTime": {
     "end_time": "2023-11-09T17:50:00.767925300Z",
     "start_time": "2023-11-09T17:49:58.363516500Z"
    }
   },
   "id": "fe4cd984a6b19b50"
  },
  {
   "cell_type": "code",
   "execution_count": 3,
   "id": "initial_id",
   "metadata": {
    "collapsed": true,
    "ExecuteTime": {
     "end_time": "2023-11-09T17:50:02.329901400Z",
     "start_time": "2023-11-09T17:50:00.761919400Z"
    }
   },
   "outputs": [],
   "source": [
    "import pandas as pd\n",
    "from pandasql import sqldf as sql"
   ]
  },
  {
   "cell_type": "code",
   "execution_count": 4,
   "outputs": [],
   "source": [
    "df = pd.read_csv('electric.csv')\n",
    "df.columns = df.columns.str.replace(' ', '_')"
   ],
   "metadata": {
    "collapsed": false,
    "ExecuteTime": {
     "end_time": "2023-11-09T17:50:02.617169500Z",
     "start_time": "2023-11-09T17:50:02.330902700Z"
    }
   },
   "id": "99de9cef4e176bf"
  },
  {
   "cell_type": "code",
   "execution_count": 5,
   "outputs": [
    {
     "data": {
      "text/plain": "        VIN_(1-10)    County        City State  Postal_Code  Model_Year  \\\n0       5UXTA6C05P    Yakima      Yakima    WA      98903.0        2023   \n1       5YJRE11B48       NaN         NaN    BC          NaN        2008   \n2       5YJSA1E24G      King     Seattle    WA      98103.0        2016   \n3       1N4AZ1CP5J      King   Shoreline    WA      98177.0        2018   \n4       5YJ3E1EA6J    Island  Coupeville    WA      98239.0        2018   \n...            ...       ...         ...   ...          ...         ...   \n153825  1N4AZ0CP0D  San Juan   Eastsound    WA      98245.0        2013   \n153826  5YJSA1E27H   Spokane     Spokane    WA      99223.0        2017   \n153827  1G1FW6S03P      King      Seatac    WA      98188.0        2023   \n153828  3FMTK3SU1M      King        Kent    WA      98031.0        2021   \n153829  1N4AZ0CP0D    Pierce      Tacoma    WA      98407.0        2013   \n\n             Make           Model                   Electric_Vehicle_Type  \\\n0             BMW              X5  Plug-in Hybrid Electric Vehicle (PHEV)   \n1           TESLA        ROADSTER          Battery Electric Vehicle (BEV)   \n2           TESLA         MODEL S          Battery Electric Vehicle (BEV)   \n3          NISSAN            LEAF          Battery Electric Vehicle (BEV)   \n4           TESLA         MODEL 3          Battery Electric Vehicle (BEV)   \n...           ...             ...                                     ...   \n153825     NISSAN            LEAF          Battery Electric Vehicle (BEV)   \n153826      TESLA         MODEL S          Battery Electric Vehicle (BEV)   \n153827  CHEVROLET         BOLT EV          Battery Electric Vehicle (BEV)   \n153828       FORD  MUSTANG MACH-E          Battery Electric Vehicle (BEV)   \n153829     NISSAN            LEAF          Battery Electric Vehicle (BEV)   \n\n        Clean_Alternative_Fuel_Vehicle_(CAFV)_Eligibility  Electric_Range  \\\n0                 Clean Alternative Fuel Vehicle Eligible              30   \n1                 Clean Alternative Fuel Vehicle Eligible             220   \n2                 Clean Alternative Fuel Vehicle Eligible             210   \n3                 Clean Alternative Fuel Vehicle Eligible             151   \n4                 Clean Alternative Fuel Vehicle Eligible             215   \n...                                                   ...             ...   \n153825            Clean Alternative Fuel Vehicle Eligible              75   \n153826            Clean Alternative Fuel Vehicle Eligible             210   \n153827  Eligibility unknown as battery range has not b...               0   \n153828  Eligibility unknown as battery range has not b...               0   \n153829            Clean Alternative Fuel Vehicle Eligible              75   \n\n        Base_MSRP  Legislative_District  DOL_Vehicle_ID  \\\n0               0                  14.0       227153587   \n1           98950                   NaN       143609049   \n2               0                  43.0       187728201   \n3               0                  32.0       249867971   \n4               0                  10.0       223792649   \n...           ...                   ...             ...   \n153825          0                  40.0       154379130   \n153826          0                   6.0       204991475   \n153827          0                  33.0       244720059   \n153828          0                  33.0       186104215   \n153829          0                  27.0       153724504   \n\n                       Vehicle_Location  \\\n0         POINT (-120.477805 46.553505)   \n1                                   NaN   \n2          POINT (-122.34301 47.659185)   \n3          POINT (-122.382425 47.77279)   \n4       POINT (-122.6880708 48.2179983)   \n...                                 ...   \n153825   POINT (-122.907229 48.7016716)   \n153826     POINT (-117.369705 47.62637)   \n153827      POINT (-122.29179 47.43473)   \n153828  POINT (-122.2012521 47.3931814)   \n153829  POINT (-122.5113356 47.2923828)   \n\n                                         Electric_Utility  2020_Census_Tract  \n0                                              PACIFICORP       5.307700e+10  \n1                                                     NaN                NaN  \n2            CITY OF SEATTLE - (WA)|CITY OF TACOMA - (WA)       5.303300e+10  \n3            CITY OF SEATTLE - (WA)|CITY OF TACOMA - (WA)       5.303302e+10  \n4                                  PUGET SOUND ENERGY INC       5.302997e+10  \n...                                                   ...                ...  \n153825  BONNEVILLE POWER ADMINISTRATION||ORCAS POWER &...       5.305596e+10  \n153826  BONNEVILLE POWER ADMINISTRATION||INLAND POWER ...       5.306301e+10  \n153827      PUGET SOUND ENERGY INC||CITY OF TACOMA - (WA)       5.303303e+10  \n153828      PUGET SOUND ENERGY INC||CITY OF TACOMA - (WA)       5.303303e+10  \n153829  BONNEVILLE POWER ADMINISTRATION||CITY OF TACOM...       5.305306e+10  \n\n[153830 rows x 17 columns]",
      "text/html": "<div>\n<style scoped>\n    .dataframe tbody tr th:only-of-type {\n        vertical-align: middle;\n    }\n\n    .dataframe tbody tr th {\n        vertical-align: top;\n    }\n\n    .dataframe thead th {\n        text-align: right;\n    }\n</style>\n<table border=\"1\" class=\"dataframe\">\n  <thead>\n    <tr style=\"text-align: right;\">\n      <th></th>\n      <th>VIN_(1-10)</th>\n      <th>County</th>\n      <th>City</th>\n      <th>State</th>\n      <th>Postal_Code</th>\n      <th>Model_Year</th>\n      <th>Make</th>\n      <th>Model</th>\n      <th>Electric_Vehicle_Type</th>\n      <th>Clean_Alternative_Fuel_Vehicle_(CAFV)_Eligibility</th>\n      <th>Electric_Range</th>\n      <th>Base_MSRP</th>\n      <th>Legislative_District</th>\n      <th>DOL_Vehicle_ID</th>\n      <th>Vehicle_Location</th>\n      <th>Electric_Utility</th>\n      <th>2020_Census_Tract</th>\n    </tr>\n  </thead>\n  <tbody>\n    <tr>\n      <th>0</th>\n      <td>5UXTA6C05P</td>\n      <td>Yakima</td>\n      <td>Yakima</td>\n      <td>WA</td>\n      <td>98903.0</td>\n      <td>2023</td>\n      <td>BMW</td>\n      <td>X5</td>\n      <td>Plug-in Hybrid Electric Vehicle (PHEV)</td>\n      <td>Clean Alternative Fuel Vehicle Eligible</td>\n      <td>30</td>\n      <td>0</td>\n      <td>14.0</td>\n      <td>227153587</td>\n      <td>POINT (-120.477805 46.553505)</td>\n      <td>PACIFICORP</td>\n      <td>5.307700e+10</td>\n    </tr>\n    <tr>\n      <th>1</th>\n      <td>5YJRE11B48</td>\n      <td>NaN</td>\n      <td>NaN</td>\n      <td>BC</td>\n      <td>NaN</td>\n      <td>2008</td>\n      <td>TESLA</td>\n      <td>ROADSTER</td>\n      <td>Battery Electric Vehicle (BEV)</td>\n      <td>Clean Alternative Fuel Vehicle Eligible</td>\n      <td>220</td>\n      <td>98950</td>\n      <td>NaN</td>\n      <td>143609049</td>\n      <td>NaN</td>\n      <td>NaN</td>\n      <td>NaN</td>\n    </tr>\n    <tr>\n      <th>2</th>\n      <td>5YJSA1E24G</td>\n      <td>King</td>\n      <td>Seattle</td>\n      <td>WA</td>\n      <td>98103.0</td>\n      <td>2016</td>\n      <td>TESLA</td>\n      <td>MODEL S</td>\n      <td>Battery Electric Vehicle (BEV)</td>\n      <td>Clean Alternative Fuel Vehicle Eligible</td>\n      <td>210</td>\n      <td>0</td>\n      <td>43.0</td>\n      <td>187728201</td>\n      <td>POINT (-122.34301 47.659185)</td>\n      <td>CITY OF SEATTLE - (WA)|CITY OF TACOMA - (WA)</td>\n      <td>5.303300e+10</td>\n    </tr>\n    <tr>\n      <th>3</th>\n      <td>1N4AZ1CP5J</td>\n      <td>King</td>\n      <td>Shoreline</td>\n      <td>WA</td>\n      <td>98177.0</td>\n      <td>2018</td>\n      <td>NISSAN</td>\n      <td>LEAF</td>\n      <td>Battery Electric Vehicle (BEV)</td>\n      <td>Clean Alternative Fuel Vehicle Eligible</td>\n      <td>151</td>\n      <td>0</td>\n      <td>32.0</td>\n      <td>249867971</td>\n      <td>POINT (-122.382425 47.77279)</td>\n      <td>CITY OF SEATTLE - (WA)|CITY OF TACOMA - (WA)</td>\n      <td>5.303302e+10</td>\n    </tr>\n    <tr>\n      <th>4</th>\n      <td>5YJ3E1EA6J</td>\n      <td>Island</td>\n      <td>Coupeville</td>\n      <td>WA</td>\n      <td>98239.0</td>\n      <td>2018</td>\n      <td>TESLA</td>\n      <td>MODEL 3</td>\n      <td>Battery Electric Vehicle (BEV)</td>\n      <td>Clean Alternative Fuel Vehicle Eligible</td>\n      <td>215</td>\n      <td>0</td>\n      <td>10.0</td>\n      <td>223792649</td>\n      <td>POINT (-122.6880708 48.2179983)</td>\n      <td>PUGET SOUND ENERGY INC</td>\n      <td>5.302997e+10</td>\n    </tr>\n    <tr>\n      <th>...</th>\n      <td>...</td>\n      <td>...</td>\n      <td>...</td>\n      <td>...</td>\n      <td>...</td>\n      <td>...</td>\n      <td>...</td>\n      <td>...</td>\n      <td>...</td>\n      <td>...</td>\n      <td>...</td>\n      <td>...</td>\n      <td>...</td>\n      <td>...</td>\n      <td>...</td>\n      <td>...</td>\n      <td>...</td>\n    </tr>\n    <tr>\n      <th>153825</th>\n      <td>1N4AZ0CP0D</td>\n      <td>San Juan</td>\n      <td>Eastsound</td>\n      <td>WA</td>\n      <td>98245.0</td>\n      <td>2013</td>\n      <td>NISSAN</td>\n      <td>LEAF</td>\n      <td>Battery Electric Vehicle (BEV)</td>\n      <td>Clean Alternative Fuel Vehicle Eligible</td>\n      <td>75</td>\n      <td>0</td>\n      <td>40.0</td>\n      <td>154379130</td>\n      <td>POINT (-122.907229 48.7016716)</td>\n      <td>BONNEVILLE POWER ADMINISTRATION||ORCAS POWER &amp;...</td>\n      <td>5.305596e+10</td>\n    </tr>\n    <tr>\n      <th>153826</th>\n      <td>5YJSA1E27H</td>\n      <td>Spokane</td>\n      <td>Spokane</td>\n      <td>WA</td>\n      <td>99223.0</td>\n      <td>2017</td>\n      <td>TESLA</td>\n      <td>MODEL S</td>\n      <td>Battery Electric Vehicle (BEV)</td>\n      <td>Clean Alternative Fuel Vehicle Eligible</td>\n      <td>210</td>\n      <td>0</td>\n      <td>6.0</td>\n      <td>204991475</td>\n      <td>POINT (-117.369705 47.62637)</td>\n      <td>BONNEVILLE POWER ADMINISTRATION||INLAND POWER ...</td>\n      <td>5.306301e+10</td>\n    </tr>\n    <tr>\n      <th>153827</th>\n      <td>1G1FW6S03P</td>\n      <td>King</td>\n      <td>Seatac</td>\n      <td>WA</td>\n      <td>98188.0</td>\n      <td>2023</td>\n      <td>CHEVROLET</td>\n      <td>BOLT EV</td>\n      <td>Battery Electric Vehicle (BEV)</td>\n      <td>Eligibility unknown as battery range has not b...</td>\n      <td>0</td>\n      <td>0</td>\n      <td>33.0</td>\n      <td>244720059</td>\n      <td>POINT (-122.29179 47.43473)</td>\n      <td>PUGET SOUND ENERGY INC||CITY OF TACOMA - (WA)</td>\n      <td>5.303303e+10</td>\n    </tr>\n    <tr>\n      <th>153828</th>\n      <td>3FMTK3SU1M</td>\n      <td>King</td>\n      <td>Kent</td>\n      <td>WA</td>\n      <td>98031.0</td>\n      <td>2021</td>\n      <td>FORD</td>\n      <td>MUSTANG MACH-E</td>\n      <td>Battery Electric Vehicle (BEV)</td>\n      <td>Eligibility unknown as battery range has not b...</td>\n      <td>0</td>\n      <td>0</td>\n      <td>33.0</td>\n      <td>186104215</td>\n      <td>POINT (-122.2012521 47.3931814)</td>\n      <td>PUGET SOUND ENERGY INC||CITY OF TACOMA - (WA)</td>\n      <td>5.303303e+10</td>\n    </tr>\n    <tr>\n      <th>153829</th>\n      <td>1N4AZ0CP0D</td>\n      <td>Pierce</td>\n      <td>Tacoma</td>\n      <td>WA</td>\n      <td>98407.0</td>\n      <td>2013</td>\n      <td>NISSAN</td>\n      <td>LEAF</td>\n      <td>Battery Electric Vehicle (BEV)</td>\n      <td>Clean Alternative Fuel Vehicle Eligible</td>\n      <td>75</td>\n      <td>0</td>\n      <td>27.0</td>\n      <td>153724504</td>\n      <td>POINT (-122.5113356 47.2923828)</td>\n      <td>BONNEVILLE POWER ADMINISTRATION||CITY OF TACOM...</td>\n      <td>5.305306e+10</td>\n    </tr>\n  </tbody>\n</table>\n<p>153830 rows × 17 columns</p>\n</div>"
     },
     "execution_count": 5,
     "metadata": {},
     "output_type": "execute_result"
    }
   ],
   "source": [
    "df"
   ],
   "metadata": {
    "collapsed": false,
    "ExecuteTime": {
     "end_time": "2023-11-09T17:50:02.638810800Z",
     "start_time": "2023-11-09T17:50:02.617169500Z"
    }
   },
   "id": "3915d74809512fb8"
  },
  {
   "cell_type": "code",
   "execution_count": 6,
   "outputs": [
    {
     "data": {
      "text/plain": "   State\n0     AK\n1     AL\n2     AP\n3     AR\n4     AZ\n5     BC\n6     CA\n7     CO\n8     CT\n9     DC\n10    DE\n11    FL\n12    GA\n13    HI\n14    IA\n15    ID\n16    IL\n17    IN\n18    KS\n19    KY\n20    LA\n21    MA\n22    MD\n23    MN\n24    MO\n25    MS\n26    MT\n27    NC\n28    NE\n29    NH\n30    NJ\n31    NV\n32    NY\n33    OH\n34    OK\n35    OR\n36    PA\n37    SC\n38    TX\n39    UT\n40    VA\n41    WA\n42    WY",
      "text/html": "<div>\n<style scoped>\n    .dataframe tbody tr th:only-of-type {\n        vertical-align: middle;\n    }\n\n    .dataframe tbody tr th {\n        vertical-align: top;\n    }\n\n    .dataframe thead th {\n        text-align: right;\n    }\n</style>\n<table border=\"1\" class=\"dataframe\">\n  <thead>\n    <tr style=\"text-align: right;\">\n      <th></th>\n      <th>State</th>\n    </tr>\n  </thead>\n  <tbody>\n    <tr>\n      <th>0</th>\n      <td>AK</td>\n    </tr>\n    <tr>\n      <th>1</th>\n      <td>AL</td>\n    </tr>\n    <tr>\n      <th>2</th>\n      <td>AP</td>\n    </tr>\n    <tr>\n      <th>3</th>\n      <td>AR</td>\n    </tr>\n    <tr>\n      <th>4</th>\n      <td>AZ</td>\n    </tr>\n    <tr>\n      <th>5</th>\n      <td>BC</td>\n    </tr>\n    <tr>\n      <th>6</th>\n      <td>CA</td>\n    </tr>\n    <tr>\n      <th>7</th>\n      <td>CO</td>\n    </tr>\n    <tr>\n      <th>8</th>\n      <td>CT</td>\n    </tr>\n    <tr>\n      <th>9</th>\n      <td>DC</td>\n    </tr>\n    <tr>\n      <th>10</th>\n      <td>DE</td>\n    </tr>\n    <tr>\n      <th>11</th>\n      <td>FL</td>\n    </tr>\n    <tr>\n      <th>12</th>\n      <td>GA</td>\n    </tr>\n    <tr>\n      <th>13</th>\n      <td>HI</td>\n    </tr>\n    <tr>\n      <th>14</th>\n      <td>IA</td>\n    </tr>\n    <tr>\n      <th>15</th>\n      <td>ID</td>\n    </tr>\n    <tr>\n      <th>16</th>\n      <td>IL</td>\n    </tr>\n    <tr>\n      <th>17</th>\n      <td>IN</td>\n    </tr>\n    <tr>\n      <th>18</th>\n      <td>KS</td>\n    </tr>\n    <tr>\n      <th>19</th>\n      <td>KY</td>\n    </tr>\n    <tr>\n      <th>20</th>\n      <td>LA</td>\n    </tr>\n    <tr>\n      <th>21</th>\n      <td>MA</td>\n    </tr>\n    <tr>\n      <th>22</th>\n      <td>MD</td>\n    </tr>\n    <tr>\n      <th>23</th>\n      <td>MN</td>\n    </tr>\n    <tr>\n      <th>24</th>\n      <td>MO</td>\n    </tr>\n    <tr>\n      <th>25</th>\n      <td>MS</td>\n    </tr>\n    <tr>\n      <th>26</th>\n      <td>MT</td>\n    </tr>\n    <tr>\n      <th>27</th>\n      <td>NC</td>\n    </tr>\n    <tr>\n      <th>28</th>\n      <td>NE</td>\n    </tr>\n    <tr>\n      <th>29</th>\n      <td>NH</td>\n    </tr>\n    <tr>\n      <th>30</th>\n      <td>NJ</td>\n    </tr>\n    <tr>\n      <th>31</th>\n      <td>NV</td>\n    </tr>\n    <tr>\n      <th>32</th>\n      <td>NY</td>\n    </tr>\n    <tr>\n      <th>33</th>\n      <td>OH</td>\n    </tr>\n    <tr>\n      <th>34</th>\n      <td>OK</td>\n    </tr>\n    <tr>\n      <th>35</th>\n      <td>OR</td>\n    </tr>\n    <tr>\n      <th>36</th>\n      <td>PA</td>\n    </tr>\n    <tr>\n      <th>37</th>\n      <td>SC</td>\n    </tr>\n    <tr>\n      <th>38</th>\n      <td>TX</td>\n    </tr>\n    <tr>\n      <th>39</th>\n      <td>UT</td>\n    </tr>\n    <tr>\n      <th>40</th>\n      <td>VA</td>\n    </tr>\n    <tr>\n      <th>41</th>\n      <td>WA</td>\n    </tr>\n    <tr>\n      <th>42</th>\n      <td>WY</td>\n    </tr>\n  </tbody>\n</table>\n</div>"
     },
     "execution_count": 6,
     "metadata": {},
     "output_type": "execute_result"
    }
   ],
   "source": [
    "sql('select distinct state from df order by 1')"
   ],
   "metadata": {
    "collapsed": false,
    "ExecuteTime": {
     "end_time": "2023-11-09T17:50:04.645042200Z",
     "start_time": "2023-11-09T17:50:02.635807400Z"
    }
   },
   "id": "8eecb36ac2a2e61d"
  },
  {
   "cell_type": "code",
   "execution_count": 15,
   "outputs": [],
   "source": [
    "#_join(cars, mounts, \"a.*, b.MountName\", \"a.MountID = b.ID\", \"a.MountID\", \"b.MountName\")\n",
    "def _join(df1: pd.DataFrame, df2: pd.DataFrame, fields:str, on:str, a_key:str, b_key:str, generateLeft=True, generateRight=True):\n",
    "    left, right = None, None\n",
    "    if generateLeft:\n",
    "        left = sql(f'select {fields} from df1 a left join df2 b on {on} where {b_key} is null')\n",
    "    center = sql(f'select {fields} from df1 a inner join df2 b on {on}')\n",
    "    if generateRight:\n",
    "        right = sql(f'select {fields} from df1 a right join df2 b on {on} where {a_key} is null')\n",
    "    return left, center, right\n",
    "\n",
    "#_union_all(cars, ['mounts', 'colors'])\n",
    "def _union_all(df1: pd.DataFrame, dfs:list[str]):\n",
    "    return sql(f'select * from df1 union all {\"union all \".join([\"select * from \"+dfx for dfx in dfs])}')\n",
    "\n",
    "#_summarize(cars, ['ColorID', 'MountID'], {'price': 'mean'})\n",
    "def _summarize(df1: pd.DataFrame, group:list[str], summ:dict):\n",
    "    arr_summ = [f\"{summ[summ_item]}({summ_item}) as {summ_item}\" for summ_item in summ]\n",
    "    return sql(f'select {\", \".join(group)}, {\", \".join(arr_summ)} from df1 group by {\",\".join([str(x) for x in list(range(1,len(group)+1))])}')\n",
    "\n",
    "#_filter(cars, \"ColorID = 1\")\n",
    "def _filter(df1: pd.DataFrame, conditional:str, generateFalse=True):\n",
    "    t = sql(f'select * from df1 where ({conditional})')\n",
    "    if generateFalse:\n",
    "        f = sql(f'select * from df1 where not ({conditional})')\n",
    "        return t, f\n",
    "    return t, None\n",
    "\n",
    "#_compare(cars, mounts)\n",
    "def _compare(df1: pd.DataFrame, df2: pd.DataFrame):\n",
    "    left, right = [], []\n",
    "    \n",
    "    l = [y.lower() for y in df1.columns.to_list()]\n",
    "    r = [y.lower() for y in df2.columns.to_list()]\n",
    "    \n",
    "    for x in l:\n",
    "        if x.lower() not in r:\n",
    "            left.append(x)\n",
    "    for x in r:\n",
    "        if x.lower() not in l:\n",
    "            right.append(x)\n",
    "    \n",
    "    return len(left) == 0 and len(right) == 0, left, right\n",
    "\n",
    "states = pd.read_excel('states.xlsx')"
   ],
   "metadata": {
    "collapsed": false,
    "ExecuteTime": {
     "end_time": "2023-11-09T17:58:21.278981500Z",
     "start_time": "2023-11-09T17:58:21.269907600Z"
    }
   },
   "id": "794afc44efc12d3f"
  },
  {
   "cell_type": "code",
   "execution_count": 8,
   "outputs": [
    {
     "data": {
      "text/plain": "        VIN_(1-10)    County        City State  Postal_Code  Model_Year  \\\n0       5UXTA6C05P    Yakima      Yakima    WA      98903.0        2023   \n1       5YJRE11B48      None        None    BC          NaN        2008   \n2       5YJSA1E24G      King     Seattle    WA      98103.0        2016   \n3       1N4AZ1CP5J      King   Shoreline    WA      98177.0        2018   \n4       5YJ3E1EA6J    Island  Coupeville    WA      98239.0        2018   \n...            ...       ...         ...   ...          ...         ...   \n153818  1N4AZ0CP0D  San Juan   Eastsound    WA      98245.0        2013   \n153819  5YJSA1E27H   Spokane     Spokane    WA      99223.0        2017   \n153820  1G1FW6S03P      King      Seatac    WA      98188.0        2023   \n153821  3FMTK3SU1M      King        Kent    WA      98031.0        2021   \n153822  1N4AZ0CP0D    Pierce      Tacoma    WA      98407.0        2013   \n\n             Make           Model                   Electric_Vehicle_Type  \\\n0             BMW              X5  Plug-in Hybrid Electric Vehicle (PHEV)   \n1           TESLA        ROADSTER          Battery Electric Vehicle (BEV)   \n2           TESLA         MODEL S          Battery Electric Vehicle (BEV)   \n3          NISSAN            LEAF          Battery Electric Vehicle (BEV)   \n4           TESLA         MODEL 3          Battery Electric Vehicle (BEV)   \n...           ...             ...                                     ...   \n153818     NISSAN            LEAF          Battery Electric Vehicle (BEV)   \n153819      TESLA         MODEL S          Battery Electric Vehicle (BEV)   \n153820  CHEVROLET         BOLT EV          Battery Electric Vehicle (BEV)   \n153821       FORD  MUSTANG MACH-E          Battery Electric Vehicle (BEV)   \n153822     NISSAN            LEAF          Battery Electric Vehicle (BEV)   \n\n        Clean_Alternative_Fuel_Vehicle_(CAFV)_Eligibility  Electric_Range  \\\n0                 Clean Alternative Fuel Vehicle Eligible              30   \n1                 Clean Alternative Fuel Vehicle Eligible             220   \n2                 Clean Alternative Fuel Vehicle Eligible             210   \n3                 Clean Alternative Fuel Vehicle Eligible             151   \n4                 Clean Alternative Fuel Vehicle Eligible             215   \n...                                                   ...             ...   \n153818            Clean Alternative Fuel Vehicle Eligible              75   \n153819            Clean Alternative Fuel Vehicle Eligible             210   \n153820  Eligibility unknown as battery range has not b...               0   \n153821  Eligibility unknown as battery range has not b...               0   \n153822            Clean Alternative Fuel Vehicle Eligible              75   \n\n        Base_MSRP  Legislative_District  DOL_Vehicle_ID  \\\n0               0                  14.0       227153587   \n1           98950                   NaN       143609049   \n2               0                  43.0       187728201   \n3               0                  32.0       249867971   \n4               0                  10.0       223792649   \n...           ...                   ...             ...   \n153818          0                  40.0       154379130   \n153819          0                   6.0       204991475   \n153820          0                  33.0       244720059   \n153821          0                  33.0       186104215   \n153822          0                  27.0       153724504   \n\n                       Vehicle_Location  \\\n0         POINT (-120.477805 46.553505)   \n1                                  None   \n2          POINT (-122.34301 47.659185)   \n3          POINT (-122.382425 47.77279)   \n4       POINT (-122.6880708 48.2179983)   \n...                                 ...   \n153818   POINT (-122.907229 48.7016716)   \n153819     POINT (-117.369705 47.62637)   \n153820      POINT (-122.29179 47.43473)   \n153821  POINT (-122.2012521 47.3931814)   \n153822  POINT (-122.5113356 47.2923828)   \n\n                                         Electric_Utility  2020_Census_Tract  \n0                                              PACIFICORP       5.307700e+10  \n1                                                    None                NaN  \n2            CITY OF SEATTLE - (WA)|CITY OF TACOMA - (WA)       5.303300e+10  \n3            CITY OF SEATTLE - (WA)|CITY OF TACOMA - (WA)       5.303302e+10  \n4                                  PUGET SOUND ENERGY INC       5.302997e+10  \n...                                                   ...                ...  \n153818  BONNEVILLE POWER ADMINISTRATION||ORCAS POWER &...       5.305596e+10  \n153819  BONNEVILLE POWER ADMINISTRATION||INLAND POWER ...       5.306301e+10  \n153820      PUGET SOUND ENERGY INC||CITY OF TACOMA - (WA)       5.303303e+10  \n153821      PUGET SOUND ENERGY INC||CITY OF TACOMA - (WA)       5.303303e+10  \n153822  BONNEVILLE POWER ADMINISTRATION||CITY OF TACOM...       5.305306e+10  \n\n[153823 rows x 17 columns]",
      "text/html": "<div>\n<style scoped>\n    .dataframe tbody tr th:only-of-type {\n        vertical-align: middle;\n    }\n\n    .dataframe tbody tr th {\n        vertical-align: top;\n    }\n\n    .dataframe thead th {\n        text-align: right;\n    }\n</style>\n<table border=\"1\" class=\"dataframe\">\n  <thead>\n    <tr style=\"text-align: right;\">\n      <th></th>\n      <th>VIN_(1-10)</th>\n      <th>County</th>\n      <th>City</th>\n      <th>State</th>\n      <th>Postal_Code</th>\n      <th>Model_Year</th>\n      <th>Make</th>\n      <th>Model</th>\n      <th>Electric_Vehicle_Type</th>\n      <th>Clean_Alternative_Fuel_Vehicle_(CAFV)_Eligibility</th>\n      <th>Electric_Range</th>\n      <th>Base_MSRP</th>\n      <th>Legislative_District</th>\n      <th>DOL_Vehicle_ID</th>\n      <th>Vehicle_Location</th>\n      <th>Electric_Utility</th>\n      <th>2020_Census_Tract</th>\n    </tr>\n  </thead>\n  <tbody>\n    <tr>\n      <th>0</th>\n      <td>5UXTA6C05P</td>\n      <td>Yakima</td>\n      <td>Yakima</td>\n      <td>WA</td>\n      <td>98903.0</td>\n      <td>2023</td>\n      <td>BMW</td>\n      <td>X5</td>\n      <td>Plug-in Hybrid Electric Vehicle (PHEV)</td>\n      <td>Clean Alternative Fuel Vehicle Eligible</td>\n      <td>30</td>\n      <td>0</td>\n      <td>14.0</td>\n      <td>227153587</td>\n      <td>POINT (-120.477805 46.553505)</td>\n      <td>PACIFICORP</td>\n      <td>5.307700e+10</td>\n    </tr>\n    <tr>\n      <th>1</th>\n      <td>5YJRE11B48</td>\n      <td>None</td>\n      <td>None</td>\n      <td>BC</td>\n      <td>NaN</td>\n      <td>2008</td>\n      <td>TESLA</td>\n      <td>ROADSTER</td>\n      <td>Battery Electric Vehicle (BEV)</td>\n      <td>Clean Alternative Fuel Vehicle Eligible</td>\n      <td>220</td>\n      <td>98950</td>\n      <td>NaN</td>\n      <td>143609049</td>\n      <td>None</td>\n      <td>None</td>\n      <td>NaN</td>\n    </tr>\n    <tr>\n      <th>2</th>\n      <td>5YJSA1E24G</td>\n      <td>King</td>\n      <td>Seattle</td>\n      <td>WA</td>\n      <td>98103.0</td>\n      <td>2016</td>\n      <td>TESLA</td>\n      <td>MODEL S</td>\n      <td>Battery Electric Vehicle (BEV)</td>\n      <td>Clean Alternative Fuel Vehicle Eligible</td>\n      <td>210</td>\n      <td>0</td>\n      <td>43.0</td>\n      <td>187728201</td>\n      <td>POINT (-122.34301 47.659185)</td>\n      <td>CITY OF SEATTLE - (WA)|CITY OF TACOMA - (WA)</td>\n      <td>5.303300e+10</td>\n    </tr>\n    <tr>\n      <th>3</th>\n      <td>1N4AZ1CP5J</td>\n      <td>King</td>\n      <td>Shoreline</td>\n      <td>WA</td>\n      <td>98177.0</td>\n      <td>2018</td>\n      <td>NISSAN</td>\n      <td>LEAF</td>\n      <td>Battery Electric Vehicle (BEV)</td>\n      <td>Clean Alternative Fuel Vehicle Eligible</td>\n      <td>151</td>\n      <td>0</td>\n      <td>32.0</td>\n      <td>249867971</td>\n      <td>POINT (-122.382425 47.77279)</td>\n      <td>CITY OF SEATTLE - (WA)|CITY OF TACOMA - (WA)</td>\n      <td>5.303302e+10</td>\n    </tr>\n    <tr>\n      <th>4</th>\n      <td>5YJ3E1EA6J</td>\n      <td>Island</td>\n      <td>Coupeville</td>\n      <td>WA</td>\n      <td>98239.0</td>\n      <td>2018</td>\n      <td>TESLA</td>\n      <td>MODEL 3</td>\n      <td>Battery Electric Vehicle (BEV)</td>\n      <td>Clean Alternative Fuel Vehicle Eligible</td>\n      <td>215</td>\n      <td>0</td>\n      <td>10.0</td>\n      <td>223792649</td>\n      <td>POINT (-122.6880708 48.2179983)</td>\n      <td>PUGET SOUND ENERGY INC</td>\n      <td>5.302997e+10</td>\n    </tr>\n    <tr>\n      <th>...</th>\n      <td>...</td>\n      <td>...</td>\n      <td>...</td>\n      <td>...</td>\n      <td>...</td>\n      <td>...</td>\n      <td>...</td>\n      <td>...</td>\n      <td>...</td>\n      <td>...</td>\n      <td>...</td>\n      <td>...</td>\n      <td>...</td>\n      <td>...</td>\n      <td>...</td>\n      <td>...</td>\n      <td>...</td>\n    </tr>\n    <tr>\n      <th>153818</th>\n      <td>1N4AZ0CP0D</td>\n      <td>San Juan</td>\n      <td>Eastsound</td>\n      <td>WA</td>\n      <td>98245.0</td>\n      <td>2013</td>\n      <td>NISSAN</td>\n      <td>LEAF</td>\n      <td>Battery Electric Vehicle (BEV)</td>\n      <td>Clean Alternative Fuel Vehicle Eligible</td>\n      <td>75</td>\n      <td>0</td>\n      <td>40.0</td>\n      <td>154379130</td>\n      <td>POINT (-122.907229 48.7016716)</td>\n      <td>BONNEVILLE POWER ADMINISTRATION||ORCAS POWER &amp;...</td>\n      <td>5.305596e+10</td>\n    </tr>\n    <tr>\n      <th>153819</th>\n      <td>5YJSA1E27H</td>\n      <td>Spokane</td>\n      <td>Spokane</td>\n      <td>WA</td>\n      <td>99223.0</td>\n      <td>2017</td>\n      <td>TESLA</td>\n      <td>MODEL S</td>\n      <td>Battery Electric Vehicle (BEV)</td>\n      <td>Clean Alternative Fuel Vehicle Eligible</td>\n      <td>210</td>\n      <td>0</td>\n      <td>6.0</td>\n      <td>204991475</td>\n      <td>POINT (-117.369705 47.62637)</td>\n      <td>BONNEVILLE POWER ADMINISTRATION||INLAND POWER ...</td>\n      <td>5.306301e+10</td>\n    </tr>\n    <tr>\n      <th>153820</th>\n      <td>1G1FW6S03P</td>\n      <td>King</td>\n      <td>Seatac</td>\n      <td>WA</td>\n      <td>98188.0</td>\n      <td>2023</td>\n      <td>CHEVROLET</td>\n      <td>BOLT EV</td>\n      <td>Battery Electric Vehicle (BEV)</td>\n      <td>Eligibility unknown as battery range has not b...</td>\n      <td>0</td>\n      <td>0</td>\n      <td>33.0</td>\n      <td>244720059</td>\n      <td>POINT (-122.29179 47.43473)</td>\n      <td>PUGET SOUND ENERGY INC||CITY OF TACOMA - (WA)</td>\n      <td>5.303303e+10</td>\n    </tr>\n    <tr>\n      <th>153821</th>\n      <td>3FMTK3SU1M</td>\n      <td>King</td>\n      <td>Kent</td>\n      <td>WA</td>\n      <td>98031.0</td>\n      <td>2021</td>\n      <td>FORD</td>\n      <td>MUSTANG MACH-E</td>\n      <td>Battery Electric Vehicle (BEV)</td>\n      <td>Eligibility unknown as battery range has not b...</td>\n      <td>0</td>\n      <td>0</td>\n      <td>33.0</td>\n      <td>186104215</td>\n      <td>POINT (-122.2012521 47.3931814)</td>\n      <td>PUGET SOUND ENERGY INC||CITY OF TACOMA - (WA)</td>\n      <td>5.303303e+10</td>\n    </tr>\n    <tr>\n      <th>153822</th>\n      <td>1N4AZ0CP0D</td>\n      <td>Pierce</td>\n      <td>Tacoma</td>\n      <td>WA</td>\n      <td>98407.0</td>\n      <td>2013</td>\n      <td>NISSAN</td>\n      <td>LEAF</td>\n      <td>Battery Electric Vehicle (BEV)</td>\n      <td>Clean Alternative Fuel Vehicle Eligible</td>\n      <td>75</td>\n      <td>0</td>\n      <td>27.0</td>\n      <td>153724504</td>\n      <td>POINT (-122.5113356 47.2923828)</td>\n      <td>BONNEVILLE POWER ADMINISTRATION||CITY OF TACOM...</td>\n      <td>5.305306e+10</td>\n    </tr>\n  </tbody>\n</table>\n<p>153823 rows × 17 columns</p>\n</div>"
     },
     "execution_count": 8,
     "metadata": {},
     "output_type": "execute_result"
    }
   ],
   "source": [
    "t, f = _filter(df, \"State='NY'\", generateFalse=True)\n",
    "f"
   ],
   "metadata": {
    "collapsed": false,
    "ExecuteTime": {
     "end_time": "2023-11-09T17:50:09.249800100Z",
     "start_time": "2023-11-09T17:50:04.879342300Z"
    }
   },
   "id": "d05c0d0265163e9b"
  },
  {
   "cell_type": "code",
   "execution_count": 17,
   "outputs": [
    {
     "data": {
      "text/plain": "(True, [], [])"
     },
     "execution_count": 17,
     "metadata": {},
     "output_type": "execute_result"
    }
   ],
   "source": [
    "_compare(df, df)"
   ],
   "metadata": {
    "collapsed": false,
    "ExecuteTime": {
     "end_time": "2023-11-09T17:58:47.791939200Z",
     "start_time": "2023-11-09T17:58:47.784139500Z"
    }
   },
   "id": "d392a336834e5f60"
  },
  {
   "cell_type": "code",
   "execution_count": 14,
   "outputs": [
    {
     "data": {
      "text/plain": "                    Make   Make\n0             ALFA ROMEO     18\n1                   AUDI   3094\n2         AZURE DYNAMICS      8\n3                BENTLEY      1\n4                    BMW   6620\n5               CADILLAC    191\n6              CHEVROLET  12242\n7               CHRYSLER   2755\n8                   FIAT    797\n9                 FISKER     17\n10                  FORD   7817\n11               GENESIS    117\n12                 HONDA    818\n13               HYUNDAI   3410\n14                JAGUAR    225\n15                  JEEP   3468\n16                   KIA   6534\n17            LAND ROVER     46\n18                 LEXUS    160\n19               LINCOLN    231\n20                 LUCID    191\n21                 MAZDA    204\n22         MERCEDES-BENZ   1108\n23                  MINI    810\n24            MITSUBISHI    884\n25                NISSAN  13649\n26              POLESTAR    782\n27               PORSCHE   1041\n28                RIVIAN   2777\n29                 SMART    276\n30                SUBARU    640\n31                 TESLA  69601\n32                 TH!NK      5\n33                TOYOTA   5386\n34            VOLKSWAGEN   4238\n35                 VOLVO   3666\n36  WHEEGO ELECTRIC CARS      3",
      "text/html": "<div>\n<style scoped>\n    .dataframe tbody tr th:only-of-type {\n        vertical-align: middle;\n    }\n\n    .dataframe tbody tr th {\n        vertical-align: top;\n    }\n\n    .dataframe thead th {\n        text-align: right;\n    }\n</style>\n<table border=\"1\" class=\"dataframe\">\n  <thead>\n    <tr style=\"text-align: right;\">\n      <th></th>\n      <th>Make</th>\n      <th>Make</th>\n    </tr>\n  </thead>\n  <tbody>\n    <tr>\n      <th>0</th>\n      <td>ALFA ROMEO</td>\n      <td>18</td>\n    </tr>\n    <tr>\n      <th>1</th>\n      <td>AUDI</td>\n      <td>3094</td>\n    </tr>\n    <tr>\n      <th>2</th>\n      <td>AZURE DYNAMICS</td>\n      <td>8</td>\n    </tr>\n    <tr>\n      <th>3</th>\n      <td>BENTLEY</td>\n      <td>1</td>\n    </tr>\n    <tr>\n      <th>4</th>\n      <td>BMW</td>\n      <td>6620</td>\n    </tr>\n    <tr>\n      <th>5</th>\n      <td>CADILLAC</td>\n      <td>191</td>\n    </tr>\n    <tr>\n      <th>6</th>\n      <td>CHEVROLET</td>\n      <td>12242</td>\n    </tr>\n    <tr>\n      <th>7</th>\n      <td>CHRYSLER</td>\n      <td>2755</td>\n    </tr>\n    <tr>\n      <th>8</th>\n      <td>FIAT</td>\n      <td>797</td>\n    </tr>\n    <tr>\n      <th>9</th>\n      <td>FISKER</td>\n      <td>17</td>\n    </tr>\n    <tr>\n      <th>10</th>\n      <td>FORD</td>\n      <td>7817</td>\n    </tr>\n    <tr>\n      <th>11</th>\n      <td>GENESIS</td>\n      <td>117</td>\n    </tr>\n    <tr>\n      <th>12</th>\n      <td>HONDA</td>\n      <td>818</td>\n    </tr>\n    <tr>\n      <th>13</th>\n      <td>HYUNDAI</td>\n      <td>3410</td>\n    </tr>\n    <tr>\n      <th>14</th>\n      <td>JAGUAR</td>\n      <td>225</td>\n    </tr>\n    <tr>\n      <th>15</th>\n      <td>JEEP</td>\n      <td>3468</td>\n    </tr>\n    <tr>\n      <th>16</th>\n      <td>KIA</td>\n      <td>6534</td>\n    </tr>\n    <tr>\n      <th>17</th>\n      <td>LAND ROVER</td>\n      <td>46</td>\n    </tr>\n    <tr>\n      <th>18</th>\n      <td>LEXUS</td>\n      <td>160</td>\n    </tr>\n    <tr>\n      <th>19</th>\n      <td>LINCOLN</td>\n      <td>231</td>\n    </tr>\n    <tr>\n      <th>20</th>\n      <td>LUCID</td>\n      <td>191</td>\n    </tr>\n    <tr>\n      <th>21</th>\n      <td>MAZDA</td>\n      <td>204</td>\n    </tr>\n    <tr>\n      <th>22</th>\n      <td>MERCEDES-BENZ</td>\n      <td>1108</td>\n    </tr>\n    <tr>\n      <th>23</th>\n      <td>MINI</td>\n      <td>810</td>\n    </tr>\n    <tr>\n      <th>24</th>\n      <td>MITSUBISHI</td>\n      <td>884</td>\n    </tr>\n    <tr>\n      <th>25</th>\n      <td>NISSAN</td>\n      <td>13649</td>\n    </tr>\n    <tr>\n      <th>26</th>\n      <td>POLESTAR</td>\n      <td>782</td>\n    </tr>\n    <tr>\n      <th>27</th>\n      <td>PORSCHE</td>\n      <td>1041</td>\n    </tr>\n    <tr>\n      <th>28</th>\n      <td>RIVIAN</td>\n      <td>2777</td>\n    </tr>\n    <tr>\n      <th>29</th>\n      <td>SMART</td>\n      <td>276</td>\n    </tr>\n    <tr>\n      <th>30</th>\n      <td>SUBARU</td>\n      <td>640</td>\n    </tr>\n    <tr>\n      <th>31</th>\n      <td>TESLA</td>\n      <td>69601</td>\n    </tr>\n    <tr>\n      <th>32</th>\n      <td>TH!NK</td>\n      <td>5</td>\n    </tr>\n    <tr>\n      <th>33</th>\n      <td>TOYOTA</td>\n      <td>5386</td>\n    </tr>\n    <tr>\n      <th>34</th>\n      <td>VOLKSWAGEN</td>\n      <td>4238</td>\n    </tr>\n    <tr>\n      <th>35</th>\n      <td>VOLVO</td>\n      <td>3666</td>\n    </tr>\n    <tr>\n      <th>36</th>\n      <td>WHEEGO ELECTRIC CARS</td>\n      <td>3</td>\n    </tr>\n  </tbody>\n</table>\n</div>"
     },
     "execution_count": 14,
     "metadata": {},
     "output_type": "execute_result"
    }
   ],
   "source": [
    "_summarize(df, [\"Make\"], {\"Make\": \"count\"})"
   ],
   "metadata": {
    "collapsed": false,
    "ExecuteTime": {
     "end_time": "2023-11-09T17:51:09.869119800Z",
     "start_time": "2023-11-09T17:51:08.010665800Z"
    }
   },
   "id": "f6db264d91d1b3d6"
  },
  {
   "cell_type": "code",
   "execution_count": 10,
   "outputs": [
    {
     "data": {
      "text/plain": "  State         Name\n0    AL      Alabama\n1    CA   California\n2    NY  Nova Iorque\n3    OH         Ohio",
      "text/html": "<div>\n<style scoped>\n    .dataframe tbody tr th:only-of-type {\n        vertical-align: middle;\n    }\n\n    .dataframe tbody tr th {\n        vertical-align: top;\n    }\n\n    .dataframe thead th {\n        text-align: right;\n    }\n</style>\n<table border=\"1\" class=\"dataframe\">\n  <thead>\n    <tr style=\"text-align: right;\">\n      <th></th>\n      <th>State</th>\n      <th>Name</th>\n    </tr>\n  </thead>\n  <tbody>\n    <tr>\n      <th>0</th>\n      <td>AL</td>\n      <td>Alabama</td>\n    </tr>\n    <tr>\n      <th>1</th>\n      <td>CA</td>\n      <td>California</td>\n    </tr>\n    <tr>\n      <th>2</th>\n      <td>NY</td>\n      <td>Nova Iorque</td>\n    </tr>\n    <tr>\n      <th>3</th>\n      <td>OH</td>\n      <td>Ohio</td>\n    </tr>\n  </tbody>\n</table>\n</div>"
     },
     "execution_count": 10,
     "metadata": {},
     "output_type": "execute_result"
    }
   ],
   "source": [
    "states"
   ],
   "metadata": {
    "collapsed": false,
    "ExecuteTime": {
     "end_time": "2023-11-09T17:50:11.155119200Z",
     "start_time": "2023-11-09T17:50:11.146095100Z"
    }
   },
   "id": "a078baa80ffc33ac"
  },
  {
   "cell_type": "code",
   "execution_count": 11,
   "outputs": [],
   "source": [
    "_,c,_ = _join(df, states, 'a.*, b.Name as State_Name','a.State = b.State', 'a.State', 'b.Name', generateLeft=False, generateRight=False)"
   ],
   "metadata": {
    "collapsed": false,
    "ExecuteTime": {
     "end_time": "2023-11-09T17:50:12.980903600Z",
     "start_time": "2023-11-09T17:50:11.152116500Z"
    }
   },
   "id": "f7a60615c0a4c7a0"
  },
  {
   "cell_type": "code",
   "execution_count": 12,
   "outputs": [
    {
     "ename": "NameError",
     "evalue": "name 'l' is not defined",
     "output_type": "error",
     "traceback": [
      "\u001B[1;31m---------------------------------------------------------------------------\u001B[0m",
      "\u001B[1;31mNameError\u001B[0m                                 Traceback (most recent call last)",
      "Cell \u001B[1;32mIn[12], line 1\u001B[0m\n\u001B[1;32m----> 1\u001B[0m \u001B[43ml\u001B[49m, \u001B[38;5;28mlen\u001B[39m(c), \u001B[38;5;28mlen\u001B[39m(r)\n",
      "\u001B[1;31mNameError\u001B[0m: name 'l' is not defined"
     ]
    }
   ],
   "source": [
    "l, len(c), len(r)"
   ],
   "metadata": {
    "collapsed": false,
    "ExecuteTime": {
     "end_time": "2023-11-09T17:50:13.002289600Z",
     "start_time": "2023-11-09T17:50:12.981904300Z"
    }
   },
   "id": "ce69d58275a89b2a"
  },
  {
   "cell_type": "code",
   "execution_count": null,
   "outputs": [],
   "source": [
    "sql('select distinct State from l order by 1')"
   ],
   "metadata": {
    "collapsed": false,
    "ExecuteTime": {
     "start_time": "2023-11-09T17:50:12.995284500Z"
    }
   },
   "id": "f40d7f818515cec8"
  }
 ],
 "metadata": {
  "kernelspec": {
   "display_name": "Python 3",
   "language": "python",
   "name": "python3"
  },
  "language_info": {
   "codemirror_mode": {
    "name": "ipython",
    "version": 2
   },
   "file_extension": ".py",
   "mimetype": "text/x-python",
   "name": "python",
   "nbconvert_exporter": "python",
   "pygments_lexer": "ipython2",
   "version": "2.7.6"
  }
 },
 "nbformat": 4,
 "nbformat_minor": 5
}
